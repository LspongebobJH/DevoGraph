{
 "cells": [
  {
   "cell_type": "markdown",
   "metadata": {},
   "source": [
    "# Experiments of stage 2"
   ]
  },
  {
   "cell_type": "code",
   "execution_count": 2,
   "metadata": {},
   "outputs": [],
   "source": [
    "import pandas as pd\n",
    "import matplotlib.pyplot as plt\n",
    "import cv2\n",
    "import dgl\n",
    "\n",
    "from dgl.data import CSVDataset"
   ]
  },
  {
   "cell_type": "code",
   "execution_count": 5,
   "metadata": {},
   "outputs": [],
   "source": [
    "data_path = '~/.CEData/'"
   ]
  },
  {
   "cell_type": "markdown",
   "metadata": {},
   "source": [
    "## Pre-process sampled data\n",
    "* The sampled data shows what the input format of the stage 2 should be like:\n",
    "---\n",
    "* cell column: cell name\n",
    "* time column: the time point when the cell data is sampled\n",
    "* x, y, z columns: the 3-D positions\n",
    "* size column: the volumn of the cell\n",
    "---\n",
    "* All input files of stage 2 should be aligned with the format here"
   ]
  },
  {
   "cell_type": "code",
   "execution_count": 27,
   "metadata": {},
   "outputs": [
    {
     "data": {
      "text/html": [
       "<div>\n",
       "<style scoped>\n",
       "    .dataframe tbody tr th:only-of-type {\n",
       "        vertical-align: middle;\n",
       "    }\n",
       "\n",
       "    .dataframe tbody tr th {\n",
       "        vertical-align: top;\n",
       "    }\n",
       "\n",
       "    .dataframe thead th {\n",
       "        text-align: right;\n",
       "    }\n",
       "</style>\n",
       "<table border=\"1\" class=\"dataframe\">\n",
       "  <thead>\n",
       "    <tr style=\"text-align: right;\">\n",
       "      <th></th>\n",
       "      <th>cell</th>\n",
       "      <th>time</th>\n",
       "      <th>x</th>\n",
       "      <th>y</th>\n",
       "      <th>z</th>\n",
       "      <th>size</th>\n",
       "    </tr>\n",
       "  </thead>\n",
       "  <tbody>\n",
       "    <tr>\n",
       "      <th>0</th>\n",
       "      <td>AB</td>\n",
       "      <td>1</td>\n",
       "      <td>454</td>\n",
       "      <td>286</td>\n",
       "      <td>14</td>\n",
       "      <td>53</td>\n",
       "    </tr>\n",
       "    <tr>\n",
       "      <th>1</th>\n",
       "      <td>AB</td>\n",
       "      <td>2</td>\n",
       "      <td>494</td>\n",
       "      <td>244</td>\n",
       "      <td>14.5</td>\n",
       "      <td>68</td>\n",
       "    </tr>\n",
       "    <tr>\n",
       "      <th>2</th>\n",
       "      <td>AB</td>\n",
       "      <td>3</td>\n",
       "      <td>497</td>\n",
       "      <td>235</td>\n",
       "      <td>14</td>\n",
       "      <td>48</td>\n",
       "    </tr>\n",
       "    <tr>\n",
       "      <th>3</th>\n",
       "      <td>AB</td>\n",
       "      <td>4</td>\n",
       "      <td>491</td>\n",
       "      <td>223</td>\n",
       "      <td>14</td>\n",
       "      <td>50</td>\n",
       "    </tr>\n",
       "    <tr>\n",
       "      <th>4</th>\n",
       "      <td>ABa</td>\n",
       "      <td>5</td>\n",
       "      <td>519</td>\n",
       "      <td>272</td>\n",
       "      <td>14.3</td>\n",
       "      <td>70</td>\n",
       "    </tr>\n",
       "    <tr>\n",
       "      <th>...</th>\n",
       "      <td>...</td>\n",
       "      <td>...</td>\n",
       "      <td>...</td>\n",
       "      <td>...</td>\n",
       "      <td>...</td>\n",
       "      <td>...</td>\n",
       "    </tr>\n",
       "    <tr>\n",
       "      <th>252293</th>\n",
       "      <td>Cppp</td>\n",
       "      <td>87</td>\n",
       "      <td>578</td>\n",
       "      <td>205</td>\n",
       "      <td>14.1</td>\n",
       "      <td>40</td>\n",
       "    </tr>\n",
       "    <tr>\n",
       "      <th>252294</th>\n",
       "      <td>Cppp</td>\n",
       "      <td>88</td>\n",
       "      <td>583</td>\n",
       "      <td>215</td>\n",
       "      <td>14</td>\n",
       "      <td>40</td>\n",
       "    </tr>\n",
       "    <tr>\n",
       "      <th>252295</th>\n",
       "      <td>Cppp</td>\n",
       "      <td>89</td>\n",
       "      <td>573</td>\n",
       "      <td>210</td>\n",
       "      <td>13.1</td>\n",
       "      <td>38</td>\n",
       "    </tr>\n",
       "    <tr>\n",
       "      <th>252296</th>\n",
       "      <td>Cpppa</td>\n",
       "      <td>90</td>\n",
       "      <td>562</td>\n",
       "      <td>233</td>\n",
       "      <td>14.8</td>\n",
       "      <td>36</td>\n",
       "    </tr>\n",
       "    <tr>\n",
       "      <th>252297</th>\n",
       "      <td>Cpppa</td>\n",
       "      <td>91</td>\n",
       "      <td>570</td>\n",
       "      <td>238</td>\n",
       "      <td>15</td>\n",
       "      <td>36</td>\n",
       "    </tr>\n",
       "  </tbody>\n",
       "</table>\n",
       "<p>252285 rows × 6 columns</p>\n",
       "</div>"
      ],
      "text/plain": [
       "         cell time    x    y     z size\n",
       "0          AB    1  454  286    14   53\n",
       "1          AB    2  494  244  14.5   68\n",
       "2          AB    3  497  235    14   48\n",
       "3          AB    4  491  223    14   50\n",
       "4         ABa    5  519  272  14.3   70\n",
       "...       ...  ...  ...  ...   ...  ...\n",
       "252293   Cppp   87  578  205  14.1   40\n",
       "252294   Cppp   88  583  215    14   40\n",
       "252295   Cppp   89  573  210  13.1   38\n",
       "252296  Cpppa   90  562  233  14.8   36\n",
       "252297  Cpppa   91  570  238    15   36\n",
       "\n",
       "[252285 rows x 6 columns]"
      ]
     },
     "execution_count": 27,
     "metadata": {},
     "output_type": "execute_result"
    }
   ],
   "source": [
    "raw_data = pd.read_csv(f'{data_path}raw-data-part-1a.csv')\n",
    "raw_data.drop(['cellTime'], axis=1, inplace=True)\n",
    "raw_data.drop(raw_data[(raw_data.time == 'time')].index, axis=0, inplace=True)\n",
    "raw_data"
   ]
  },
  {
   "cell_type": "code",
   "execution_count": 35,
   "metadata": {},
   "outputs": [],
   "source": [
    "raw_data.time = raw_data.time.astype('float')\n",
    "raw_data.x = raw_data.x.astype('float')\n",
    "raw_data.y = raw_data.y.astype('float')\n",
    "raw_data.z = raw_data.z.astype('float')\n",
    "raw_data['size'] = raw_data['size'].astype('float')"
   ]
  },
  {
   "cell_type": "markdown",
   "metadata": {},
   "source": [
    "## Build a DGL graph based on the given sampled data"
   ]
  },
  {
   "cell_type": "code",
   "execution_count": 37,
   "metadata": {},
   "outputs": [
    {
     "data": {
      "text/plain": [
       "0         53.0\n",
       "1         68.0\n",
       "2         48.0\n",
       "3         50.0\n",
       "4         70.0\n",
       "          ... \n",
       "252293    40.0\n",
       "252294    40.0\n",
       "252295    38.0\n",
       "252296    36.0\n",
       "252297    36.0\n",
       "Name: size, Length: 252285, dtype: float64"
      ]
     },
     "execution_count": 37,
     "metadata": {},
     "output_type": "execute_result"
    }
   ],
   "source": []
  },
  {
   "cell_type": "markdown",
   "metadata": {},
   "source": []
  }
 ],
 "metadata": {
  "kernelspec": {
   "display_name": "Python 3.9.13 ('pytorch_p39')",
   "language": "python",
   "name": "python3"
  },
  "language_info": {
   "codemirror_mode": {
    "name": "ipython",
    "version": 3
   },
   "file_extension": ".py",
   "mimetype": "text/x-python",
   "name": "python",
   "nbconvert_exporter": "python",
   "pygments_lexer": "ipython3",
   "version": "3.9.13"
  },
  "orig_nbformat": 4,
  "vscode": {
   "interpreter": {
    "hash": "eb71ac050f92a5d5e3cdea462f22e174d379ee0836c3076b1e7df4a375a19e34"
   }
  }
 },
 "nbformat": 4,
 "nbformat_minor": 2
}
