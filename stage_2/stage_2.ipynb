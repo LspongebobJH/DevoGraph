{
 "cells": [
  {
   "cell_type": "markdown",
   "metadata": {},
   "source": [
    "# Experiments of stage 2"
   ]
  },
  {
   "cell_type": "code",
   "execution_count": 3,
   "metadata": {},
   "outputs": [],
   "source": [
    "import sys\n",
    "# sys.path.append('/home/ubuntu/DevoGraph')\n",
    "sys.path.append('../../DevoGraph/')"
   ]
  },
  {
   "cell_type": "code",
   "execution_count": 6,
   "metadata": {},
   "outputs": [],
   "source": [
    "import pandas as pd\n",
    "import matplotlib.pyplot as plt\n",
    "import networkx as nx\n",
    "import os\n",
    "import numpy as np\n",
    "import torch as th\n",
    "\n",
    "\n",
    "from copy import deepcopy\n",
    "from importlib import reload\n",
    "import devograph.datasets.datasets as data\n",
    "\n",
    "%matplotlib inline\n",
    "%config InlineBackend.figure_format='retina'"
   ]
  },
  {
   "cell_type": "code",
   "execution_count": 7,
   "metadata": {},
   "outputs": [
    {
     "data": {
      "text/plain": [
       "<module 'devograph.datasets.datasets' from '/Users/watarukawakami/GSoC/DevoGraph/stage_2/../../DevoGraph/devograph/datasets/datasets.py'>"
      ]
     },
     "execution_count": 7,
     "metadata": {},
     "output_type": "execute_result"
    }
   ],
   "source": [
    "reload(data)"
   ]
  },
  {
   "cell_type": "code",
   "execution_count": null,
   "metadata": {},
   "outputs": [],
   "source": [
    "data_path = '~/.CEData/'"
   ]
  },
  {
   "cell_type": "markdown",
   "metadata": {},
   "source": [
    "## Pre-process sampled data\n",
    "* The sampled data shows what the input format of the stage 2 should be like:\n",
    "---\n",
    "* cell column: cell name\n",
    "* time column: the time point when the cell data is sampled\n",
    "* x, y, z columns: the 3-D positions\n",
    "* size column: the volumn of the cell\n",
    "---\n",
    "* All input files of stage 2 should be aligned with the format here"
   ]
  },
  {
   "cell_type": "code",
   "execution_count": null,
   "metadata": {},
   "outputs": [],
   "source": [
    "raw_data = pd.read_csv(f'{data_path}raw-data-part-1a.csv')\n",
    "raw_data.drop(['cellTime'], axis=1, inplace=True)\n",
    "raw_data.drop(raw_data[(raw_data.time == 'time')].index, axis=0, inplace=True)\n",
    "raw_data"
   ]
  },
  {
   "cell_type": "code",
   "execution_count": null,
   "metadata": {},
   "outputs": [],
   "source": [
    "raw_data.time = raw_data.time.astype('int')\n",
    "raw_data.x = raw_data.x.astype('float')\n",
    "raw_data.y = raw_data.y.astype('float')\n",
    "raw_data.z = raw_data.z.astype('float')\n",
    "raw_data['size'] = raw_data['size'].astype('float')"
   ]
  },
  {
   "cell_type": "code",
   "execution_count": null,
   "metadata": {},
   "outputs": [],
   "source": [
    "raw_data.to_csv('~/DevoGraph/data/CE_raw_data.csv')"
   ]
  },
  {
   "cell_type": "code",
   "execution_count": null,
   "metadata": {},
   "outputs": [],
   "source": [
    "lineage_data = pd.read_excel(f'{data_path}cell-by-cell-data-v2.xlsx', sheet_name='daughter-of-database', \n",
    "                             engine='openpyxl', usecols=['CELL NAME', 'CELL NAME.1'])\n",
    "lineage_data.rename(columns={'CELL NAME': 'daughter', 'CELL NAME.1': 'mother'}, inplace=True)"
   ]
  },
  {
   "cell_type": "code",
   "execution_count": null,
   "metadata": {},
   "outputs": [],
   "source": [
    "lineage_data"
   ]
  },
  {
   "cell_type": "code",
   "execution_count": null,
   "metadata": {},
   "outputs": [],
   "source": [
    "lineage_data.to_csv(f'{data_path}CE_lineage_data.csv')"
   ]
  },
  {
   "cell_type": "markdown",
   "metadata": {},
   "source": [
    "## Build a DGL graph based on the given sampled data"
   ]
  },
  {
   "cell_type": "code",
   "execution_count": null,
   "metadata": {
    "scrolled": true
   },
   "outputs": [],
   "source": [
    "# load graphs from disk. if there's no existing graphs, download them from url\n",
    "datasets = data.CETemporalGraphKNN(\n",
    "        time_start=0, time_end=10, knn_k=3,\n",
    "        url='https://raw.githubusercontent.com/LspongebobJH/DevoGraph/main/data/CE_raw_data.csv?token=GHSAT0AAAAAABMX6RJRRFC2U5QOCZXHNBVYYVL5Y2A')\n",
    "\n",
    "# convert the temporal graph datasets into a batch graph with directed links that connect \n",
    "# cells across different frames according to the lineage tree given in the second param\n",
    "res_g, batch_node_interval = data.to_temporal_directed(datasets, '~/.CEData/CE_lineage_data.csv')\n",
    "\n",
    "# store the directed temporal graphs into datasets for later convenient operations\n",
    "datasets.set_batch_graph(res_g)\n",
    "datasets.set_info({'batch_node_interval': batch_node_interval})"
   ]
  },
  {
   "cell_type": "code",
   "execution_count": null,
   "metadata": {},
   "outputs": [],
   "source": [
    "print(f\"number of frames: {len(datasets)}\")\n",
    "print(f\"number of nodes in the batch graph: {datasets.batch_graph.number_of_nodes()}\")\n",
    "print(f\"number of edges in the batch graph: {datasets.batch_graph.number_of_edges()}\")"
   ]
  },
  {
   "cell_type": "code",
   "execution_count": null,
   "metadata": {},
   "outputs": [],
   "source": [
    "# node features\n",
    "# pos: 3-D position (x,y,z); size: volumn; time: the timestamp relative to the temporal graph series\n",
    "datasets[0].ndata.keys()"
   ]
  },
  {
   "cell_type": "markdown",
   "metadata": {},
   "source": [
    "## Visualization in 3-D plot"
   ]
  },
  {
   "cell_type": "code",
   "execution_count": null,
   "metadata": {},
   "outputs": [],
   "source": [
    "fig = plt.figure(figsize=(15, 15))\n",
    "\n",
    "g = datasets[3]\n",
    "pos = g.ndata['pos']\n",
    "\n",
    "ax = fig.add_subplot(121, projection='3d')\n",
    "ax.scatter(pos[:, 0], pos[:, 1], pos[:, 2], marker='o')\n",
    "edges = np.array(list(zip(g.edges()[0].numpy(), g.edges()[1].numpy())))\n",
    "edges_coor = pos[edges].numpy()\n",
    "for edge_coor in edges_coor:\n",
    "    ax.plot(*edge_coor.T, color='tab:grey')\n",
    "    \n",
    "g = datasets[4]\n",
    "pos = g.ndata['pos']\n",
    "\n",
    "ax = fig.add_subplot(122, projection='3d')\n",
    "ax.scatter(pos[:, 0], pos[:, 1], pos[:, 2], marker='o')\n",
    "edges = np.array(list(zip(g.edges()[0].numpy(), g.edges()[1].numpy())))\n",
    "edges_coor = pos[edges].numpy()\n",
    "for edge_coor in edges_coor:\n",
    "    ax.plot(*edge_coor.T, color='tab:grey')\n",
    "\n",
    "# plt.show()"
   ]
  },
  {
   "cell_type": "code",
   "execution_count": null,
   "metadata": {},
   "outputs": [],
   "source": [
    "fig = plt.figure(figsize=(20, 20))\n",
    "batch_graph = datasets.batch_graph\n",
    "batch_node_interval = datasets.info['batch_node_interval'][3:5]\n",
    "batch_edges = th.stack(batch_graph.edges()).numpy().T\n",
    "\n",
    "g1 = deepcopy(datasets[3])\n",
    "g2 = deepcopy(datasets[4])\n",
    "pos = batch_graph.ndata['pos']\n",
    "pos1 = g1.ndata['pos']\n",
    "pos2 = g2.ndata['pos']\n",
    "pos2[:, 0] = pos2[:, 0]+1000\n",
    "\n",
    "ax = fig.add_subplot(111, projection='3d')\n",
    "ax.scatter(pos1[:, 0], pos1[:, 1], pos1[:, 2], marker='o')\n",
    "ax.scatter(pos2[:, 0], pos2[:, 1], pos2[:, 2], marker='o', color='tab:red')\n",
    "\n",
    "edges = np.array(list(zip(g1.edges()[0].numpy(), g1.edges()[1].numpy())))\n",
    "edges_coor1 = pos1[edges].numpy()\n",
    "for edge_coor in edges_coor1:\n",
    "    ax.plot(*edge_coor.T, color='tab:grey')\n",
    "    \n",
    "edges = np.array(list(zip(g2.edges()[0].numpy(), g2.edges()[1].numpy())))\n",
    "edges_coor2 = pos2[edges].numpy()\n",
    "for edge_coor in edges_coor2:\n",
    "    ax.plot(*edge_coor.T, color='tab:grey')\n",
    "\n",
    "cnt=0\n",
    "for edge in batch_edges:\n",
    "    if edge[0] in range(batch_node_interval[0][0], batch_node_interval[0][1]) and\\\n",
    "       edge[1] in range(batch_node_interval[1][0], batch_node_interval[1][1]):\n",
    "        pos_st, pos_ed = pos[edge[0]], pos[edge[1]]\n",
    "        ax.plot([pos_st[0], pos_ed[0]+1000], [pos_st[1], pos_ed[1]], [pos_st[2], pos_ed[2]], color='green', \n",
    "                  linestyle='dashed')\n",
    "        cnt += 1\n",
    "    if cnt > 50:\n",
    "        break\n",
    "\n",
    "plt.show()"
   ]
  }
 ],
 "metadata": {
  "kernelspec": {
   "display_name": "Python 3.9.12 ('GSoC')",
   "language": "python",
   "name": "python3"
  },
  "language_info": {
   "codemirror_mode": {
    "name": "ipython",
    "version": 3
   },
   "file_extension": ".py",
   "mimetype": "text/x-python",
   "name": "python",
   "nbconvert_exporter": "python",
   "pygments_lexer": "ipython3",
   "version": "3.8.13"
  },
  "vscode": {
   "interpreter": {
    "hash": "d7c63c7509a8937c9dad4d50720aff412c24844e51163589d0e7c393d345a339"
   }
  }
 },
 "nbformat": 4,
 "nbformat_minor": 2
}
