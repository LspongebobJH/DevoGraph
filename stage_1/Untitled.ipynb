{
 "cells": [
  {
   "cell_type": "code",
   "execution_count": null,
   "metadata": {},
   "outputs": [],
   "source": []
  }
 ],
 "metadata": {
  "kernelspec": {
   "display_name": "Python 3.9.12 ('moshi')",
   "language": "python",
   "name": "python3"
  },
  "language_info": {
   "name": "python",
   "version": "3.9.12"
  },
  "vscode": {
   "interpreter": {
    "hash": "c807e87d263675c85eafe3b4b1c76d4c7739307015d6d884c3dbecab1d46955f"
   }
  }
 },
 "nbformat": 4,
 "nbformat_minor": 5
}
