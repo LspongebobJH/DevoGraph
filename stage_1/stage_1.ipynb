{
 "cells": [
  {
   "cell_type": "code",
   "execution_count": 1,
   "metadata": {},
   "outputs": [],
   "source": [
    "import sys\n",
    "from pathlib import Path\n",
    "sys.path.append(\"/Users/watarukawakami/GSoC/DevoGraph\")\n",
    "sys.path.append(\"/Users/watarukawakami/GSoC/devolearn\")"
   ]
  },
  {
   "cell_type": "code",
   "execution_count": 2,
   "metadata": {},
   "outputs": [],
   "source": [
    "import pandas as pd\n",
    "import matplotlib.pyplot as plt\n",
    "import os\n",
    "import numpy as np\n",
    "import torch as th\n",
    "import devolearn\n",
    "from pathlib import Path\n",
    "DATAPATH = Path('/Users/watarukawakami/GSoC/DevoGraph/data')\n",
    "\n",
    "from copy import deepcopy\n",
    "from importlib import reload\n",
    "# import devograph.datasets.datasets as data\n",
    "\n",
    "%matplotlib inline\n",
    "%config InlineBackend.figure_format='retina'"
   ]
  },
  {
   "cell_type": "code",
   "execution_count": 3,
   "metadata": {},
   "outputs": [],
   "source": [
    "from devolearn import cell_membrane_segmentor"
   ]
  },
  {
   "cell_type": "code",
   "execution_count": 4,
   "metadata": {},
   "outputs": [],
   "source": [
    "# didn't work\n",
    "# segmentor = cell_membrane_segmentor()\n",
    "#df = segmentor.predict_from_video(video_path = str(DATAPATH / \"EPIC_raw/20081016_alr-1_10A2_3_L1.mov\"), centroid_mode = True, save_folder = os.path.join(DATAPATH, \"preds\"))\n",
    "#df = segmentor.predict_from_video(video_path = str(DATAPATH / \"EPIC_raw/sm01.mov\"), centroid_mode = True, save_folder = os.path.join(DATAPATH, \"preds\"))\n",
    "#df = segmentor.predict_from_video(video_path = str(DATAPATH / \"EPIC_raw/sm01.mov\"), centroid_mode = True, save_folder = os.path.join(DATAPATH, \"preds\"))"
   ]
  },
  {
   "cell_type": "markdown",
   "metadata": {},
   "source": [
    "### sample_data of devolearn's cell_membrane_segmentor"
   ]
  },
  {
   "cell_type": "code",
   "execution_count": 5,
   "metadata": {},
   "outputs": [
    {
     "data": {
      "text/plain": [
       "'\\nsample_data = Path(\\'/Users/watarukawakami/GSoC/DevoGraph/data/devo_learn/sample_data/\\')\\nsegmentor = cell_membrane_segmentor()\\ndf = segmentor.predict_from_video(video_path = str(sample_data / \"videos/seg_sample.mov\"), centroid_mode = True, save_folder = os.path.join(DATAPATH, \"preds\"))\\n'"
      ]
     },
     "execution_count": 5,
     "metadata": {},
     "output_type": "execute_result"
    }
   ],
   "source": [
    "# worked\n",
    "\"\"\"\n",
    "sample_data = Path('/Users/watarukawakami/GSoC/DevoGraph/data/devo_learn/sample_data/')\n",
    "segmentor = cell_membrane_segmentor()\n",
    "df = segmentor.predict_from_video(video_path = str(sample_data / \"videos/seg_sample.mov\"), centroid_mode = True, save_folder = os.path.join(DATAPATH, \"preds\"))\n",
    "\"\"\""
   ]
  },
  {
   "cell_type": "code",
   "execution_count": 6,
   "metadata": {},
   "outputs": [],
   "source": [
    "# df.to_csv(\"centroids.csv\")"
   ]
  },
  {
   "cell_type": "code",
   "execution_count": 10,
   "metadata": {},
   "outputs": [],
   "source": [
    "from devolearn import cell_nucleus_segmentor\n",
    "sample_data = Path('/Users/watarukawakami/GSoC/DevoGraph/data/devo_learn/sample_data/')\n",
    "segmentor = cell_nucleus_segmentor()\n",
    "image, centroids = segmentor.predict(image_path = str(sample_data / \"images/nucleus_seg_sample.png\"), centroid_mode = True)"
   ]
  },
  {
   "cell_type": "code",
   "execution_count": 11,
   "metadata": {},
   "outputs": [
    {
     "name": "stderr",
     "output_type": "stream",
     "text": [
      "saving predictions: 100%|██████████| 236/236 [00:58<00:00,  4.03it/s]\n"
     ]
    }
   ],
   "source": [
    "from devolearn import cell_nucleus_segmentor\n",
    "segmentor = cell_nucleus_segmentor()\n",
    "df = segmentor.predict_from_video(video_path = str(DATAPATH / \"EPIC_raw/20081016_alr-1_10A2_3_L1.mov\"), centroid_mode = True, save_folder = os.path.join(DATAPATH, \"preds\"))\n",
    "#plt.imshow(seg_pred)\n",
    "#plt.show()"
   ]
  },
  {
   "cell_type": "code",
   "execution_count": 12,
   "metadata": {},
   "outputs": [],
   "source": [
    "df.to_csv(\"centroids.csv\")"
   ]
  },
  {
   "cell_type": "code",
   "execution_count": null,
   "metadata": {},
   "outputs": [],
   "source": []
  }
 ],
 "metadata": {
  "kernelspec": {
   "display_name": "Python 3.8.13 ('devolearn')",
   "language": "python",
   "name": "python3"
  },
  "language_info": {
   "codemirror_mode": {
    "name": "ipython",
    "version": 3
   },
   "file_extension": ".py",
   "mimetype": "text/x-python",
   "name": "python",
   "nbconvert_exporter": "python",
   "pygments_lexer": "ipython3",
   "version": "3.8.13"
  },
  "orig_nbformat": 4,
  "vscode": {
   "interpreter": {
    "hash": "e7b055c650a23e3c12e587422c81df7086a216aad35f563f3feb44dcd655a832"
   }
  }
 },
 "nbformat": 4,
 "nbformat_minor": 2
}
