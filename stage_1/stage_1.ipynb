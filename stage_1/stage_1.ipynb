{
 "cells": [
  {
   "cell_type": "markdown",
   "metadata": {},
   "source": [
    "## Stage_1 experiment\n",
    "- To predict from EPIC dataset, you should use the "
   ]
  },
  {
   "cell_type": "code",
   "execution_count": 10,
   "metadata": {},
   "outputs": [],
   "source": [
    "import sys\n",
    "from pathlib import Path\n",
    "sys.path.append('../')\n",
    "sys.path.append('../devolearn')"
   ]
  },
  {
   "cell_type": "code",
   "execution_count": 11,
   "metadata": {},
   "outputs": [],
   "source": [
    "import pandas as pd\n",
    "import matplotlib.pyplot as plt\n",
    "import os\n",
    "import numpy as np\n",
    "import torch as th\n",
    "import devolearn\n",
    "DATAPATH = '../data'\n",
    "PREDPATH = os.path.join(DATAPATH, 'pred')\n",
    "\n",
    "from copy import deepcopy\n",
    "from importlib import reload\n",
    "# import devograph.datasets.datasets as data\n",
    "\n",
    "%matplotlib inline\n",
    "%config InlineBackend.figure_format='retina'"
   ]
  },
  {
   "cell_type": "code",
   "execution_count": 12,
   "metadata": {},
   "outputs": [],
   "source": [
    "from devolearn import cell_membrane_segmentor"
   ]
  },
  {
   "cell_type": "code",
   "execution_count": 13,
   "metadata": {},
   "outputs": [
    {
     "name": "stderr",
     "output_type": "stream",
     "text": [
      "saving predictions: 100%|██████████| 236/236 [00:59<00:00,  3.95it/s]\n",
      "saving predictions: 100%|██████████| 450/450 [01:53<00:00,  3.96it/s]\n"
     ]
    }
   ],
   "source": [
    "# didn't work well\n",
    "segmentor = cell_membrane_segmentor()\n",
    "EPIC_prefix = \"EPIC/20081016_alr-1_10A2_3_L1\"\n",
    "ipsm_prefix = \"ipsm/sm01\"\n",
    "EPIC_out_dir = os.path.join(PREDPATH, EPIC_prefix)\n",
    "ipsm_out_dir = os.path.join(PREDPATH, ipsm_prefix)\n",
    "os.makedirs(EPIC_out_dir, exist_ok=True)\n",
    "os.makedirs(ipsm_out_dir, exist_ok=True)\n",
    "df = segmentor.predict_from_video(video_path = os.path.join(DATAPATH, EPIC_prefix + '.mov'), centroid_mode = True, save_folder = EPIC_out_dir)\n",
    "df = segmentor.predict_from_video(video_path = os.path.join(DATAPATH, ipsm_prefix + '.mov'), centroid_mode = True, save_folder = ipsm_out_dir)"
   ]
  },
  {
   "cell_type": "markdown",
   "metadata": {},
   "source": [
    "### sample_data of devolearn's cell_membrane_segmentor"
   ]
  },
  {
   "cell_type": "code",
   "execution_count": 14,
   "metadata": {},
   "outputs": [
    {
     "name": "stderr",
     "output_type": "stream",
     "text": [
      "saving predictions: 100%|██████████| 421/421 [01:45<00:00,  4.00it/s]\n"
     ]
    }
   ],
   "source": [
    "# worked\n",
    "segmentor = cell_membrane_segmentor()\n",
    "sample_data_dir = '../devolearn/devolearn/tests/sample_data'\n",
    "sample_data_prefix = 'videos/seg_sample'\n",
    "sample_data_out_dir = os.path.join(PREDPATH, sample_data_prefix)\n",
    "os.makedirs(sample_data_out_dir, exist_ok=True)\n",
    "df = segmentor.predict_from_video(video_path = os.path.join(sample_data_dir, sample_data_prefix + '.mov'), centroid_mode = True, save_folder = sample_data_out_dir)"
   ]
  },
  {
   "cell_type": "code",
   "execution_count": 15,
   "metadata": {},
   "outputs": [],
   "source": [
    "df.to_csv(os.path.join(sample_data_out_dir, 'centroids.csv'))"
   ]
  },
  {
   "cell_type": "code",
   "execution_count": 16,
   "metadata": {},
   "outputs": [],
   "source": [
    "from devolearn import cell_nucleus_segmentor\n",
    "segmentor = cell_nucleus_segmentor()\n",
    "sample_data_dir = '../devolearn/devolearn/tests/sample_data'\n",
    "sample_data_prefix = 'images/nucleus_seg_sample'\n",
    "sample_data_out_dir = os.path.join(PREDPATH, sample_data_prefix)\n",
    "image, centroids = segmentor.predict(image_path = os.path.join(sample_data_dir, sample_data_prefix + \".png\"), centroid_mode = True)"
   ]
  },
  {
   "cell_type": "code",
   "execution_count": 17,
   "metadata": {},
   "outputs": [
    {
     "name": "stderr",
     "output_type": "stream",
     "text": [
      "saving predictions: 100%|██████████| 236/236 [00:59<00:00,  3.96it/s]\n"
     ]
    }
   ],
   "source": [
    "from devolearn import cell_nucleus_segmentor\n",
    "segmentor = cell_nucleus_segmentor()\n",
    "\n",
    "EPIC_prefix = \"EPIC/20081016_alr-1_10A2_3_L1\"\n",
    "ipsm_prefix = \"ipsm/sm01\"\n",
    "EPIC_out_dir = os.path.join(PREDPATH, EPIC_prefix)\n",
    "ipsm_out_dir = os.path.join(PREDPATH, ipsm_prefix)\n",
    "os.makedirs(EPIC_out_dir, exist_ok=True)\n",
    "os.makedirs(ipsm_out_dir, exist_ok=True)\n",
    "df = segmentor.predict_from_video(video_path = os.path.join(DATAPATH, EPIC_prefix + '.mov'), centroid_mode = True, save_folder = EPIC_out_dir)"
   ]
  },
  {
   "cell_type": "code",
   "execution_count": 18,
   "metadata": {},
   "outputs": [],
   "source": [
    "df.to_csv(os.path.join(EPIC_out_dir, 'centroids.csv'))"
   ]
  },
  {
   "cell_type": "code",
   "execution_count": null,
   "metadata": {},
   "outputs": [],
   "source": []
  }
 ],
 "metadata": {
  "kernelspec": {
   "display_name": "Python 3.8.13 ('devolearn')",
   "language": "python",
   "name": "python3"
  },
  "language_info": {
   "codemirror_mode": {
    "name": "ipython",
    "version": 3
   },
   "file_extension": ".py",
   "mimetype": "text/x-python",
   "name": "python",
   "nbconvert_exporter": "python",
   "pygments_lexer": "ipython3",
   "version": "3.8.13"
  },
  "orig_nbformat": 4,
  "vscode": {
   "interpreter": {
    "hash": "e7b055c650a23e3c12e587422c81df7086a216aad35f563f3feb44dcd655a832"
   }
  }
 },
 "nbformat": 4,
 "nbformat_minor": 2
}
