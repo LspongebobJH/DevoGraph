{
 "cells": [
  {
   "cell_type": "markdown",
   "metadata": {},
   "source": [
    "## Stage_1 experiment"
   ]
  },
  {
   "cell_type": "markdown",
   "metadata": {},
   "source": [
    "Here I investigated how well devolearn extract centroid data from various microscopy video datasets."
   ]
  },
  {
   "cell_type": "markdown",
   "metadata": {},
   "source": [
    "1. create environment\n",
    "2. run ```sh install_dependencies.sh``` to install dependencies.\n"
   ]
  },
  {
   "cell_type": "markdown",
   "metadata": {},
   "source": [
    "### import packages"
   ]
  },
  {
   "cell_type": "code",
   "execution_count": 30,
   "metadata": {},
   "outputs": [],
   "source": [
    "import sys\n",
    "from pathlib import Path\n",
    "sys.path.append('../')\n",
    "sys.path.append('../devolearn')"
   ]
  },
  {
   "cell_type": "code",
   "execution_count": 31,
   "metadata": {},
   "outputs": [],
   "source": [
    "import pandas as pd\n",
    "import matplotlib.pyplot as plt\n",
    "import os\n",
    "import numpy as np\n",
    "import torch as th\n",
    "import devolearn\n",
    "DATAPATH = '../data'\n",
    "PREDPATH = os.path.join(DATAPATH, 'pred')\n",
    "\n",
    "from copy import deepcopy\n",
    "from importlib import reload\n",
    "# import devograph.datasets.datasets as data\n",
    "\n",
    "%matplotlib inline\n",
    "%config InlineBackend.figure_format='retina'"
   ]
  },
  {
   "cell_type": "markdown",
   "metadata": {},
   "source": [
    "### trying to extract centroids from videos of EPIC datasets and ipsm dataset - failed."
   ]
  },
  {
   "cell_type": "code",
   "execution_count": 32,
   "metadata": {},
   "outputs": [],
   "source": [
    "from devolearn import cell_membrane_segmentor"
   ]
  },
  {
   "cell_type": "code",
   "execution_count": 33,
   "metadata": {},
   "outputs": [
    {
     "name": "stderr",
     "output_type": "stream",
     "text": [
      "saving predictions: 100%|██████████| 236/236 [00:58<00:00,  4.01it/s]\n",
      "saving predictions: 100%|██████████| 450/450 [01:51<00:00,  4.03it/s]\n"
     ]
    }
   ],
   "source": [
    "# didn't work well\n",
    "segmentor = cell_membrane_segmentor()\n",
    "EPIC_prefix = \"EPIC/20081016_alr-1_10A2_3_L1\"\n",
    "ipsm_prefix = \"ipsm/sm01\"\n",
    "EPIC_out_dir = os.path.join(PREDPATH, EPIC_prefix)\n",
    "ipsm_out_dir = os.path.join(PREDPATH, ipsm_prefix)\n",
    "os.makedirs(EPIC_out_dir, exist_ok=True)\n",
    "os.makedirs(ipsm_out_dir, exist_ok=True)\n",
    "df = segmentor.predict_from_video(video_path = os.path.join(DATAPATH, EPIC_prefix + '.mov'), centroid_mode = True, save_folder = EPIC_out_dir)\n",
    "df = segmentor.predict_from_video(video_path = os.path.join(DATAPATH, ipsm_prefix + '.mov'), centroid_mode = True, save_folder = ipsm_out_dir)"
   ]
  },
  {
   "cell_type": "markdown",
   "metadata": {},
   "source": [
    "### replication - trying to extract centroids from videos of sample_data of devolearn's cell_membrane_segmentor"
   ]
  },
  {
   "cell_type": "code",
   "execution_count": 34,
   "metadata": {},
   "outputs": [
    {
     "name": "stderr",
     "output_type": "stream",
     "text": [
      "saving predictions: 100%|██████████| 421/421 [01:45<00:00,  3.99it/s]\n"
     ]
    }
   ],
   "source": [
    "# worked\n",
    "segmentor = cell_membrane_segmentor()\n",
    "sample_data_dir = '../devolearn/devolearn/tests/sample_data'\n",
    "sample_data_prefix = 'videos/seg_sample'\n",
    "sample_data_out_dir = os.path.join(PREDPATH, sample_data_prefix)\n",
    "os.makedirs(sample_data_out_dir, exist_ok=True)\n",
    "df = segmentor.predict_from_video(video_path = os.path.join(sample_data_dir, sample_data_prefix + '.mov'), centroid_mode = True, save_folder = sample_data_out_dir)"
   ]
  },
  {
   "cell_type": "code",
   "execution_count": 35,
   "metadata": {},
   "outputs": [],
   "source": [
    "df.to_csv(os.path.join(sample_data_out_dir, 'centroids.csv'))"
   ]
  },
  {
   "cell_type": "markdown",
   "metadata": {},
   "source": [
    "### replication - trying to extract centroids from image of sample_data of devolearn's cell_nucleus_segmentor"
   ]
  },
  {
   "cell_type": "code",
   "execution_count": 36,
   "metadata": {},
   "outputs": [],
   "source": [
    "from devolearn import cell_nucleus_segmentor\n",
    "segmentor = cell_nucleus_segmentor()\n",
    "sample_data_dir = '../devolearn/devolearn/tests/sample_data'\n",
    "sample_data_prefix = 'images/nucleus_seg_sample'\n",
    "sample_data_out_dir = os.path.join(PREDPATH, sample_data_prefix)\n",
    "image, centroids = segmentor.predict(image_path = os.path.join(sample_data_dir, sample_data_prefix + \".png\"), centroid_mode = True)"
   ]
  },
  {
   "cell_type": "markdown",
   "metadata": {},
   "source": [
    "### trying to extract centroids from image of sample_data of devolearn's cell_nucleus_segmentor"
   ]
  },
  {
   "cell_type": "code",
   "execution_count": 37,
   "metadata": {},
   "outputs": [
    {
     "name": "stderr",
     "output_type": "stream",
     "text": [
      "saving predictions: 100%|██████████| 236/236 [00:58<00:00,  4.01it/s]\n"
     ]
    }
   ],
   "source": [
    "from devolearn import cell_nucleus_segmentor\n",
    "segmentor = cell_nucleus_segmentor()\n",
    "\n",
    "EPIC_prefix = \"EPIC/20081016_alr-1_10A2_3_L1\"\n",
    "ipsm_prefix = \"ipsm/sm01\"\n",
    "EPIC_out_dir = os.path.join(PREDPATH, EPIC_prefix)\n",
    "ipsm_out_dir = os.path.join(PREDPATH, ipsm_prefix)\n",
    "os.makedirs(EPIC_out_dir, exist_ok=True)\n",
    "os.makedirs(ipsm_out_dir, exist_ok=True)\n",
    "df = segmentor.predict_from_video(video_path = os.path.join(DATAPATH, EPIC_prefix + '.mov'), centroid_mode = True, save_folder = EPIC_out_dir)"
   ]
  },
  {
   "cell_type": "code",
   "execution_count": 38,
   "metadata": {},
   "outputs": [],
   "source": [
    "df.to_csv(os.path.join(EPIC_out_dir, 'centroids.csv'))"
   ]
  }
 ],
 "metadata": {
  "kernelspec": {
   "display_name": "Python 3.8.13 ('devograph')",
   "language": "python",
   "name": "python3"
  },
  "language_info": {
   "codemirror_mode": {
    "name": "ipython",
    "version": 3
   },
   "file_extension": ".py",
   "mimetype": "text/x-python",
   "name": "python",
   "nbconvert_exporter": "python",
   "pygments_lexer": "ipython3",
   "version": "3.8.13"
  },
  "orig_nbformat": 4,
  "vscode": {
   "interpreter": {
    "hash": "037397bee88363ac62ceb044a7e1fade234566c89e48e361f4085064bd8695d3"
   }
  }
 },
 "nbformat": 4,
 "nbformat_minor": 2
}
