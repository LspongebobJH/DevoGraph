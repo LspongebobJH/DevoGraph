{
 "cells": [
  {
   "cell_type": "markdown",
   "metadata": {},
   "source": [
    "## Stage_1 experiment"
   ]
  },
  {
   "cell_type": "markdown",
   "metadata": {},
<<<<<<< HEAD
   "source": []
=======
   "source": [
    "First of all, create a new environment and run DevoGraph/stage_1/install_dependencies.sh."
   ]
>>>>>>> e49c1e0595437596c9512f36c92c71ccca662174
  },
  {
   "cell_type": "markdown",
   "metadata": {},
   "source": [
    "### import packages"
   ]
  },
  {
   "cell_type": "code",
<<<<<<< HEAD
   "execution_count": 10,
=======
   "execution_count": 1,
>>>>>>> e49c1e0595437596c9512f36c92c71ccca662174
   "metadata": {},
   "outputs": [],
   "source": [
    "import sys\n",
    "from pathlib import Path\n",
    "sys.path.append('../')\n",
    "sys.path.append('../devolearn')"
   ]
  },
  {
   "cell_type": "code",
<<<<<<< HEAD
   "execution_count": 11,
=======
   "execution_count": 2,
>>>>>>> e49c1e0595437596c9512f36c92c71ccca662174
   "metadata": {},
   "outputs": [],
   "source": [
    "import pandas as pd\n",
    "import matplotlib.pyplot as plt\n",
    "import os\n",
    "import numpy as np\n",
    "import torch as th\n",
    "import devolearn\n",
    "DATAPATH = '../data'\n",
    "PREDPATH = os.path.join(DATAPATH, 'pred')\n",
    "\n",
    "from copy import deepcopy\n",
    "from importlib import reload\n",
    "# import devograph.datasets.datasets as data\n",
    "\n",
    "%matplotlib inline\n",
    "%config InlineBackend.figure_format='retina'"
   ]
  },
  {
   "cell_type": "code",
<<<<<<< HEAD
   "execution_count": 12,
=======
   "execution_count": 3,
>>>>>>> e49c1e0595437596c9512f36c92c71ccca662174
   "metadata": {},
   "outputs": [],
   "source": [
    "from devolearn import cell_membrane_segmentor"
   ]
  },
  {
   "cell_type": "code",
<<<<<<< HEAD
   "execution_count": 13,
=======
   "execution_count": 4,
>>>>>>> e49c1e0595437596c9512f36c92c71ccca662174
   "metadata": {},
   "outputs": [
    {
     "name": "stderr",
     "output_type": "stream",
     "text": [
<<<<<<< HEAD
      "saving predictions: 100%|██████████| 236/236 [01:07<00:00,  3.51it/s]\n",
      "saving predictions:  31%|███       | 140/450 [00:39<01:30,  3.41it/s]"
=======
      "saving predictions:   0%|          | 0/236 [00:00<?, ?it/s][W NNPACK.cpp:80] Could not initialize NNPACK! Reason: Unsupported hardware.\n",
      "saving predictions: 100%|██████████| 236/236 [00:59<00:00,  3.96it/s]\n",
      "saving predictions: 100%|██████████| 450/450 [01:53<00:00,  3.98it/s]\n"
>>>>>>> e49c1e0595437596c9512f36c92c71ccca662174
     ]
    }
   ],
   "source": [
    "# didn't work well\n",
    "segmentor = cell_membrane_segmentor()\n",
    "EPIC_prefix = \"EPIC/20081016_alr-1_10A2_3_L1\"\n",
    "ipsm_prefix = \"ipsm/sm01\"\n",
    "EPIC_out_dir = os.path.join(PREDPATH, EPIC_prefix)\n",
    "ipsm_out_dir = os.path.join(PREDPATH, ipsm_prefix)\n",
    "os.makedirs(EPIC_out_dir, exist_ok=True)\n",
    "os.makedirs(ipsm_out_dir, exist_ok=True)\n",
    "df = segmentor.predict_from_video(video_path = os.path.join(DATAPATH, EPIC_prefix + '.mov'), centroid_mode = True, save_folder = EPIC_out_dir)\n",
    "df = segmentor.predict_from_video(video_path = os.path.join(DATAPATH, ipsm_prefix + '.mov'), centroid_mode = True, save_folder = ipsm_out_dir)"
   ]
  },
  {
   "cell_type": "markdown",
   "metadata": {},
   "source": [
    "### sample_data of devolearn's cell_membrane_segmentor"
   ]
  },
  {
   "cell_type": "code",
<<<<<<< HEAD
   "execution_count": null,
=======
   "execution_count": 5,
>>>>>>> e49c1e0595437596c9512f36c92c71ccca662174
   "metadata": {},
   "outputs": [
    {
     "name": "stderr",
     "output_type": "stream",
     "text": [
<<<<<<< HEAD
      "saving predictions: 100%|██████████| 421/421 [01:45<00:00,  4.00it/s]\n"
=======
      "saving predictions: 100%|██████████| 421/421 [01:46<00:00,  3.94it/s]\n"
>>>>>>> e49c1e0595437596c9512f36c92c71ccca662174
     ]
    }
   ],
   "source": [
    "# worked\n",
    "segmentor = cell_membrane_segmentor()\n",
    "sample_data_dir = '../devolearn/devolearn/tests/sample_data'\n",
    "sample_data_prefix = 'videos/seg_sample'\n",
    "sample_data_out_dir = os.path.join(PREDPATH, sample_data_prefix)\n",
    "os.makedirs(sample_data_out_dir, exist_ok=True)\n",
    "df = segmentor.predict_from_video(video_path = os.path.join(sample_data_dir, sample_data_prefix + '.mov'), centroid_mode = True, save_folder = sample_data_out_dir)"
   ]
  },
  {
   "cell_type": "code",
<<<<<<< HEAD
   "execution_count": null,
=======
   "execution_count": 6,
>>>>>>> e49c1e0595437596c9512f36c92c71ccca662174
   "metadata": {},
   "outputs": [],
   "source": [
    "df.to_csv(os.path.join(sample_data_out_dir, 'centroids.csv'))"
   ]
  },
  {
   "cell_type": "code",
<<<<<<< HEAD
   "execution_count": null,
=======
   "execution_count": 7,
>>>>>>> e49c1e0595437596c9512f36c92c71ccca662174
   "metadata": {},
   "outputs": [],
   "source": [
    "from devolearn import cell_nucleus_segmentor\n",
    "segmentor = cell_nucleus_segmentor()\n",
    "sample_data_dir = '../devolearn/devolearn/tests/sample_data'\n",
    "sample_data_prefix = 'images/nucleus_seg_sample'\n",
    "sample_data_out_dir = os.path.join(PREDPATH, sample_data_prefix)\n",
    "image, centroids = segmentor.predict(image_path = os.path.join(sample_data_dir, sample_data_prefix + \".png\"), centroid_mode = True)"
   ]
  },
  {
   "cell_type": "code",
<<<<<<< HEAD
   "execution_count": null,
=======
   "execution_count": 8,
>>>>>>> e49c1e0595437596c9512f36c92c71ccca662174
   "metadata": {},
   "outputs": [
    {
     "name": "stderr",
     "output_type": "stream",
     "text": [
<<<<<<< HEAD
      "saving predictions: 100%|██████████| 236/236 [01:01<00:00,  3.87it/s]\n"
=======
      "saving predictions: 100%|██████████| 236/236 [01:00<00:00,  3.93it/s]\n"
>>>>>>> e49c1e0595437596c9512f36c92c71ccca662174
     ]
    }
   ],
   "source": [
    "from devolearn import cell_nucleus_segmentor\n",
    "segmentor = cell_nucleus_segmentor()\n",
    "\n",
    "EPIC_prefix = \"EPIC/20081016_alr-1_10A2_3_L1\"\n",
    "ipsm_prefix = \"ipsm/sm01\"\n",
    "EPIC_out_dir = os.path.join(PREDPATH, EPIC_prefix)\n",
    "ipsm_out_dir = os.path.join(PREDPATH, ipsm_prefix)\n",
    "os.makedirs(EPIC_out_dir, exist_ok=True)\n",
    "os.makedirs(ipsm_out_dir, exist_ok=True)\n",
    "df = segmentor.predict_from_video(video_path = os.path.join(DATAPATH, EPIC_prefix + '.mov'), centroid_mode = True, save_folder = EPIC_out_dir)"
   ]
  },
  {
   "cell_type": "code",
<<<<<<< HEAD
   "execution_count": null,
=======
   "execution_count": 9,
>>>>>>> e49c1e0595437596c9512f36c92c71ccca662174
   "metadata": {},
   "outputs": [],
   "source": [
    "df.to_csv(os.path.join(EPIC_out_dir, 'centroids.csv'))"
   ]
  },
  {
   "cell_type": "code",
   "execution_count": null,
   "metadata": {},
   "outputs": [],
   "source": []
  }
 ],
 "metadata": {
  "kernelspec": {
   "display_name": "Python 3.8.13 ('devograph')",
   "language": "python",
   "name": "python3"
  },
  "language_info": {
   "codemirror_mode": {
    "name": "ipython",
    "version": 3
   },
   "file_extension": ".py",
   "mimetype": "text/x-python",
   "name": "python",
   "nbconvert_exporter": "python",
   "pygments_lexer": "ipython3",
   "version": "3.8.13"
  },
  "orig_nbformat": 4,
  "vscode": {
   "interpreter": {
    "hash": "037397bee88363ac62ceb044a7e1fade234566c89e48e361f4085064bd8695d3"
   }
  }
 },
 "nbformat": 4,
 "nbformat_minor": 2
}
